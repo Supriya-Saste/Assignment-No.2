{
 "cells": [
  {
   "cell_type": "markdown",
   "id": "7e5bb19a",
   "metadata": {},
   "source": [
    "# Assignment No.2"
   ]
  },
  {
   "cell_type": "markdown",
   "id": "34989527",
   "metadata": {},
   "source": [
    "### 1.What are the two values of the Boolean data type? How do you write them?"
   ]
  },
  {
   "cell_type": "markdown",
   "id": "7e618f9a",
   "metadata": {},
   "source": [
    "Ans : \n",
    "    There are two values of Boolean data type : True, False"
   ]
  },
  {
   "cell_type": "markdown",
   "id": "44a1b964",
   "metadata": {},
   "source": [
    "### 2. What are the three different types of Boolean operators?"
   ]
  },
  {
   "cell_type": "markdown",
   "id": "ba0fe49a",
   "metadata": {},
   "source": [
    "Ans: \n",
    "There are three boolean operators : and, or, not"
   ]
  },
  {
   "cell_type": "markdown",
   "id": "4f13daba",
   "metadata": {},
   "source": [
    "### 3. Make a list of each Boolean operator&#39;s truth tables (i.e. every possible combination of Boolean values for the operator and what it evaluate )."
   ]
  },
  {
   "cell_type": "markdown",
   "id": "7e404fcf",
   "metadata": {},
   "source": [
    "Ans:\n",
    "\n",
    "1.Truth table for and operator is as below:\n",
    "{(False, False) : False, \n",
    "(False, True)  : False, \n",
    "(True,  False) : False, \n",
    "(True,  True)  : True}\n",
    "\n",
    "2. Truth table for or operator is as below:\n",
    "{(False, False) : False, \n",
    "(False, True)  : True, \n",
    "(True,  False) : True, \n",
    "(True,  True)  : True}\n",
    "\n",
    "\n",
    "2. Truth table for not operator is as below:\n",
    "{(not False) : True, \n",
    "(not True)  : False},\n"
   ]
  },
  {
   "cell_type": "markdown",
   "id": "11d66ff1",
   "metadata": {},
   "source": [
    "### 4. What are the values of the following expressions?\n",
    "### (5 > 4) and (3 == 5)\n",
    "### not (5 > 4)\n",
    "### (5 > 4) or (3 == 5)\n",
    "### not ((5 > 4) or (3 == 5))\n",
    "### (True and True) and (True == False)\n",
    "### (not False) or (not True)"
   ]
  },
  {
   "cell_type": "code",
   "execution_count": 1,
   "id": "1e112fdd",
   "metadata": {},
   "outputs": [
    {
     "data": {
      "text/plain": [
       "False"
      ]
     },
     "execution_count": 1,
     "metadata": {},
     "output_type": "execute_result"
    }
   ],
   "source": [
    "(5 > 4) and (3 == 5)"
   ]
  },
  {
   "cell_type": "code",
   "execution_count": 2,
   "id": "284b0be1",
   "metadata": {},
   "outputs": [
    {
     "data": {
      "text/plain": [
       "False"
      ]
     },
     "execution_count": 2,
     "metadata": {},
     "output_type": "execute_result"
    }
   ],
   "source": [
    "not (5 > 4)"
   ]
  },
  {
   "cell_type": "code",
   "execution_count": 3,
   "id": "95c0aaad",
   "metadata": {},
   "outputs": [
    {
     "data": {
      "text/plain": [
       "True"
      ]
     },
     "execution_count": 3,
     "metadata": {},
     "output_type": "execute_result"
    }
   ],
   "source": [
    "(5 > 4) or (3 == 5)"
   ]
  },
  {
   "cell_type": "code",
   "execution_count": 4,
   "id": "7020dca1",
   "metadata": {},
   "outputs": [
    {
     "data": {
      "text/plain": [
       "False"
      ]
     },
     "execution_count": 4,
     "metadata": {},
     "output_type": "execute_result"
    }
   ],
   "source": [
    "not ((5 > 4) or (3 == 5))"
   ]
  },
  {
   "cell_type": "code",
   "execution_count": 5,
   "id": "55320831",
   "metadata": {},
   "outputs": [
    {
     "data": {
      "text/plain": [
       "False"
      ]
     },
     "execution_count": 5,
     "metadata": {},
     "output_type": "execute_result"
    }
   ],
   "source": [
    "(True and True) and (True == False)"
   ]
  },
  {
   "cell_type": "code",
   "execution_count": 6,
   "id": "87d48940",
   "metadata": {},
   "outputs": [
    {
     "data": {
      "text/plain": [
       "True"
      ]
     },
     "execution_count": 6,
     "metadata": {},
     "output_type": "execute_result"
    }
   ],
   "source": [
    "(not False) or (not True)"
   ]
  },
  {
   "cell_type": "markdown",
   "id": "670968a0",
   "metadata": {},
   "source": [
    "### 5. What are the six comparison operators?"
   ]
  },
  {
   "cell_type": "markdown",
   "id": "f89f22be",
   "metadata": {},
   "source": [
    "Ans:\n",
    "Python has six comparison operators, which are as follows:\n",
    "\n",
    "Less than ( < )\n",
    "Less than or equal to (<=)\n",
    "Greater than (>)\n",
    "Greater than or equal to (>=)\n",
    "Equal to ( == )\n",
    "Not equal to ( != )"
   ]
  },
  {
   "cell_type": "markdown",
   "id": "70b1554b",
   "metadata": {},
   "source": [
    "### 6. How do you tell the difference between the equal to and assignment operators?Describe a condition and when you would use one."
   ]
  },
  {
   "cell_type": "markdown",
   "id": "9e920a59",
   "metadata": {},
   "source": [
    "1. equal to (=) is simple assignmet operator, it simply assigns a right hand value to left hand operand.\n",
    "e.g. a = 100, here the value 100 is stored in variable a.\n",
    "\n",
    "\n",
    "2. On the other hand, == checks whether the values of both side operands are same or not.\n",
    "e.g. if a == 100, this will check whether value stored in a is 100 or not, if it is true it will return a non zero value.\n",
    "\n",
    "3. So equal to is used when we want to store/assign a value to varible and == is used to check equality."
   ]
  },
  {
   "cell_type": "markdown",
   "id": "238aa71d",
   "metadata": {},
   "source": [
    "### 7. Identify the three blocks in this code:\n",
    "### spam = 0\n",
    "### if spam == 10:\n",
    "### print('eggs')\n",
    "### if spam>5:\n",
    "### print('bacon')\n",
    "### else:\n",
    "### print('ham')\n",
    "### print('spam')\n",
    "### print('spam')"
   ]
  },
  {
   "cell_type": "code",
   "execution_count": 8,
   "id": "a2f5c655",
   "metadata": {},
   "outputs": [
    {
     "name": "stdout",
     "output_type": "stream",
     "text": [
      "spam\n"
     ]
    }
   ],
   "source": [
    "spam = 0\n",
    "if spam == 10:\n",
    "    print('eggs')      ###block A\n",
    "    if spam>5:\n",
    "        print('bacon')   ### block B inside block A\n",
    "    else:\n",
    "        print('ham')     ### block C inside block A\n",
    "    print('spam')\n",
    "print('spam')        ### block A ended"
   ]
  },
  {
   "cell_type": "markdown",
   "id": "8f288762",
   "metadata": {},
   "source": [
    "### 8. Write code that prints Hello if 1 is stored in spam, prints Howdy if 2 is stored in spam, and prints Greetings! if anything else is stored in spam."
   ]
  },
  {
   "cell_type": "code",
   "execution_count": 31,
   "id": "6af809ea",
   "metadata": {},
   "outputs": [
    {
     "name": "stdout",
     "output_type": "stream",
     "text": [
      "Enter the value of spam :100\n",
      "Greetings\n"
     ]
    }
   ],
   "source": [
    "spam = int (input('Enter the value of spam :'))\n",
    "if spam == 1:\n",
    "    print(\"Hello\")\n",
    "elif spam == 2:\n",
    "    print(\"Howdy\")\n",
    "else:\n",
    "    print(\"Greetings\")"
   ]
  },
  {
   "cell_type": "markdown",
   "id": "b1cf76cf",
   "metadata": {},
   "source": [
    "### 9.If your programme is stuck in an endless loop, what keys you’ll press?"
   ]
  },
  {
   "cell_type": "code",
   "execution_count": null,
   "id": "f7bc9bde",
   "metadata": {},
   "outputs": [],
   "source": [
    "In this case, we have to press ctrl+c"
   ]
  },
  {
   "cell_type": "markdown",
   "id": "2caf6b99",
   "metadata": {},
   "source": [
    "### 10. How can you tell the difference between break and continue?"
   ]
  },
  {
   "cell_type": "code",
   "execution_count": null,
   "id": "c3a7ed5f",
   "metadata": {},
   "outputs": [],
   "source": [
    "Ans:\n",
    "    1. Break: It terminates the whole process further.\n",
    "    2. Continue : It skips the current iteration & continues further expression."
   ]
  },
  {
   "cell_type": "markdown",
   "id": "5db850c4",
   "metadata": {},
   "source": [
    "### 11. In a for loop, what is the difference between range(10), range(0, 10), and range(0, 10, 1)?"
   ]
  },
  {
   "cell_type": "markdown",
   "id": "acdc444e",
   "metadata": {},
   "source": [
    "Ans :\n",
    "    There is no difference between all of these functions. Every function returns a value from 0 to 9."
   ]
  },
  {
   "cell_type": "markdown",
   "id": "e97d6c7e",
   "metadata": {},
   "source": [
    "### 12. Write a short program that prints the numbers 1 to 10 using a for loop. Then write an equivalent program that prints the numbers 1 to 10 using a while loop."
   ]
  },
  {
   "cell_type": "code",
   "execution_count": 38,
   "id": "0838551f",
   "metadata": {},
   "outputs": [
    {
     "name": "stdout",
     "output_type": "stream",
     "text": [
      "1 2 3 4 5 6 7 8 9 10 "
     ]
    }
   ],
   "source": [
    "for i in range (1,11):\n",
    "    print(i, end = ' ')"
   ]
  },
  {
   "cell_type": "code",
   "execution_count": 46,
   "id": "bd2a3dd3",
   "metadata": {},
   "outputs": [
    {
     "name": "stdout",
     "output_type": "stream",
     "text": [
      "1 2 3 4 5 6 7 8 9 10 "
     ]
    }
   ],
   "source": [
    "i =1\n",
    "while i <= 10:\n",
    "    print(i, end = \" \")\n",
    "    i = i+1"
   ]
  },
  {
   "cell_type": "markdown",
   "id": "4c64098a",
   "metadata": {},
   "source": [
    "### 13. If you had a function named bacon() inside a module named spam, how would you call it after importing spam?"
   ]
  },
  {
   "cell_type": "markdown",
   "id": "b5d54bb5",
   "metadata": {},
   "source": [
    "Ans:\n",
    "    It can be called as spam.bacon()"
   ]
  }
 ],
 "metadata": {
  "kernelspec": {
   "display_name": "Python 3",
   "language": "python",
   "name": "python3"
  },
  "language_info": {
   "codemirror_mode": {
    "name": "ipython",
    "version": 3
   },
   "file_extension": ".py",
   "mimetype": "text/x-python",
   "name": "python",
   "nbconvert_exporter": "python",
   "pygments_lexer": "ipython3",
   "version": "3.8.8"
  }
 },
 "nbformat": 4,
 "nbformat_minor": 5
}
